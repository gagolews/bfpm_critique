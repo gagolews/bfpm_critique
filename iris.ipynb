{
 "cells": [
  {
   "cell_type": "markdown",
   "metadata": {},
   "source": [
    "# A Critique of the Bounded Fuzzy Possibilistic Method \n",
    "## Iris Data Set\n",
    "\n",
    "The *Bounded Fuzzy Possibilistic Method* (BFPM) was recently introduced in [doi:10.1016/j.fss.2019.07.011](https://dx.doi.org/10.1016/j.fss.2019.07.011). I demonstrate that there are some critical flaws in the proposed algorithm, which makes the results presented therein highly questionable. In particular, the method may generate meaningless cluster membership degrees or even fail to converge when run on some classical benchmark data sets."
   ]
  },
  {
   "cell_type": "code",
   "execution_count": 1,
   "metadata": {},
   "outputs": [],
   "source": [
    "import numpy as np\n",
    "import pandas as pd\n",
    "from bfpm import partition  # see bfpm.py in this repository — an implementation of the BFPM and Fuzzy c-means\n",
    "np.random.seed(123)  # reproducibility matters"
   ]
  },
  {
   "cell_type": "markdown",
   "metadata": {},
   "source": [
    "Let's consider the famous *Iris* data set that can be downloaded from the UCI Machine Learning repository (https://archive.ics.uci.edu/ml/)."
   ]
  },
  {
   "cell_type": "code",
   "execution_count": 2,
   "metadata": {},
   "outputs": [],
   "source": [
    "# https://archive.ics.uci.edu/ml/machine-learning-databases/iris/\n",
    "iris = pd.read_csv(\"iris.data\", names=[\"x1\", \"x2\", \"x3\", \"x4\", \"y\"])\n",
    "iris_X = np.array(iris.iloc[:,:4])\n",
    "iris_Y = np.array(iris.y.astype(\"category\").cat.codes)\n",
    "iris_c = len(np.unique(iris_Y))  # number of reference clusters"
   ]
  },
  {
   "cell_type": "markdown",
   "metadata": {},
   "source": [
    "The data set `iris_X` consists of $n=150$ points in $\\mathbb{R}^{4}$ and its reference partition `iris_Y` (given by the 5th column of `iris`) defines $c=3$ clusters."
   ]
  },
  {
   "cell_type": "markdown",
   "metadata": {},
   "source": [
    " The 3 reference cluster centres are as follows:"
   ]
  },
  {
   "cell_type": "code",
   "execution_count": 3,
   "metadata": {},
   "outputs": [
    {
     "name": "stdout",
     "output_type": "stream",
     "text": [
      "[[5.006 3.418 1.464 0.244]\n",
      " [5.936 2.77  4.26  1.326]\n",
      " [6.588 2.974 5.552 2.026]]\n"
     ]
    }
   ],
   "source": [
    "iris_V_true = np.array(iris.groupby(\"y\").mean())\n",
    "print(iris_V_true)"
   ]
  },
  {
   "cell_type": "markdown",
   "metadata": {},
   "source": [
    "Running the FCM with fuzzifier $m=2$ and random initial $V$ yields:"
   ]
  },
  {
   "cell_type": "code",
   "execution_count": 4,
   "metadata": {},
   "outputs": [
    {
     "data": {
      "text/plain": [
       "array([[6.7750278 , 3.05240438, 5.64680082, 2.05356469],\n",
       "       [5.88912443, 2.76120781, 4.36414496, 1.39738975],\n",
       "       [5.00356114, 3.40303928, 1.48499544, 0.25153832]])"
      ]
     },
     "execution_count": 4,
     "metadata": {},
     "output_type": "execute_result"
    }
   ],
   "source": [
    "iris_V_FCM = partition(iris_X, iris_c, V_init=None, m=2.0, use_FCM=True)\n",
    "iris_V_FCM"
   ]
  },
  {
   "cell_type": "markdown",
   "metadata": {},
   "source": [
    "The identified cluster centres are quite close to the reference ones (note that clusters are defined up to a permutation of labels, i.e., up to a permutation of the rows in the above matrix).\n",
    "\n",
    "Let's now run the BFPM with $m=2$, with the initial $U$ being randomly generated."
   ]
  },
  {
   "cell_type": "code",
   "execution_count": 5,
   "metadata": {},
   "outputs": [
    {
     "name": "stdout",
     "output_type": "stream",
     "text": [
      "--- cycle in V updates!\n",
      "--- V in iteration 41:\n",
      "[[5.1    3.4    1.5    0.2   ]\n",
      " [5.1    3.4    1.5    0.2   ]\n",
      " [6.2694 2.8896 4.9681 1.754 ]]\n",
      "--- V in iteration 42:\n",
      "[[6.2593 2.8974 4.929  1.7348]\n",
      " [6.2593 2.8974 4.929  1.7348]\n",
      " [5.1    3.4    1.5    0.2   ]]\n",
      "--- V in iteration 43 (current):\n",
      "[[5.1    3.4    1.5    0.2   ]\n",
      " [5.1    3.4    1.5    0.2   ]\n",
      " [6.2694 2.8896 4.9682 1.754 ]]\n"
     ]
    }
   ],
   "source": [
    "iris_V_BFPM = partition(iris_X, iris_c,\n",
    "    V_init=None, m=2.0, use_FCM=False, verbose=True)"
   ]
  },
  {
   "cell_type": "markdown",
   "metadata": {},
   "source": [
    "Unfortunately, the algorithm does not converge at all. If we hadn't added an extra stopping criterion, the BFPM would have run indefinitely. It turns out that the algorithm bounces between two stationary points, both representing the same (up to numeric error) two, not three, clusters. Note that two of the generated cluster centres coincide with each other."
   ]
  },
  {
   "cell_type": "markdown",
   "metadata": {},
   "source": [
    "The same happens when we initialise the BFPM with the true cluster centres:"
   ]
  },
  {
   "cell_type": "code",
   "execution_count": 6,
   "metadata": {},
   "outputs": [
    {
     "name": "stdout",
     "output_type": "stream",
     "text": [
      "--- cycle in V updates!\n",
      "--- V in iteration 29:\n",
      "[[6.2696 2.8896 4.9683 1.7541]\n",
      " [5.1    3.4    1.5    0.2   ]\n",
      " [5.1    3.4    1.5    0.2   ]]\n",
      "--- V in iteration 30:\n",
      "[[5.1    3.4    1.5    0.2   ]\n",
      " [6.2594 2.8974 4.9291 1.7348]\n",
      " [6.2594 2.8974 4.9291 1.7348]]\n",
      "--- V in iteration 31 (current):\n",
      "[[6.2695 2.8896 4.9683 1.7541]\n",
      " [5.1    3.4    1.5    0.2   ]\n",
      " [5.1    3.4    1.5    0.2   ]]\n"
     ]
    }
   ],
   "source": [
    "iris_V_BFPM = partition(iris_X, iris_c,\n",
    "    V_init=iris_V_true, m=2.0, use_FCM=False, verbose=True)"
   ]
  }
 ],
 "metadata": {
  "kernelspec": {
   "display_name": "Python 3",
   "language": "python",
   "name": "python3"
  },
  "language_info": {
   "codemirror_mode": {
    "name": "ipython",
    "version": 3
   },
   "file_extension": ".py",
   "mimetype": "text/x-python",
   "name": "python",
   "nbconvert_exporter": "python",
   "pygments_lexer": "ipython3",
   "version": "3.7.6"
  }
 },
 "nbformat": 4,
 "nbformat_minor": 4
}
