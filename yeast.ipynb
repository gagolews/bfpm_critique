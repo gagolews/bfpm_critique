{
 "cells": [
  {
   "cell_type": "markdown",
   "metadata": {},
   "source": [
    "# A Critique of the Bounded Fuzzy Possibilistic Method \n",
    "## Yeast Data Set\n",
    "\n",
    "The *Bounded Fuzzy Possibilistic Method* (BFPM) was recently introduced in [doi:10.1016/j.fss.2019.07.011](https://dx.doi.org/10.1016/j.fss.2019.07.011). I demonstrate that there are some critical flaws in the proposed algorithm, which makes the results presented therein highly questionable. In particular, the method may generate meaningless cluster membership degrees or even fail to converge when run on some classical benchmark data sets."
   ]
  },
  {
   "cell_type": "code",
   "execution_count": 1,
   "metadata": {},
   "outputs": [],
   "source": [
    "import numpy as np\n",
    "import pandas as pd\n",
    "from bfpm import partition  # see bfpm.py in this repository — an implementation of the BFPM and Fuzzy c-means\n",
    "np.random.seed(123)  # reproducibility matters"
   ]
  },
  {
   "cell_type": "markdown",
   "metadata": {},
   "source": [
    "Let's consider the *Yeast* data set that can be downloaded from the UCI Machine Learning repository (https://archive.ics.uci.edu/ml/)."
   ]
  },
  {
   "cell_type": "code",
   "execution_count": 2,
   "metadata": {},
   "outputs": [
    {
     "data": {
      "text/html": [
       "<div>\n",
       "<style scoped>\n",
       "    .dataframe tbody tr th:only-of-type {\n",
       "        vertical-align: middle;\n",
       "    }\n",
       "\n",
       "    .dataframe tbody tr th {\n",
       "        vertical-align: top;\n",
       "    }\n",
       "\n",
       "    .dataframe thead th {\n",
       "        text-align: right;\n",
       "    }\n",
       "</style>\n",
       "<table border=\"1\" class=\"dataframe\">\n",
       "  <thead>\n",
       "    <tr style=\"text-align: right;\">\n",
       "      <th></th>\n",
       "      <th>name</th>\n",
       "      <th>x1</th>\n",
       "      <th>x2</th>\n",
       "      <th>x3</th>\n",
       "      <th>x4</th>\n",
       "      <th>x5</th>\n",
       "      <th>x6</th>\n",
       "      <th>x7</th>\n",
       "      <th>x8</th>\n",
       "      <th>y</th>\n",
       "    </tr>\n",
       "  </thead>\n",
       "  <tbody>\n",
       "    <tr>\n",
       "      <th>0</th>\n",
       "      <td>ADT1_YEAST</td>\n",
       "      <td>0.58</td>\n",
       "      <td>0.61</td>\n",
       "      <td>0.47</td>\n",
       "      <td>0.13</td>\n",
       "      <td>0.5</td>\n",
       "      <td>0.0</td>\n",
       "      <td>0.48</td>\n",
       "      <td>0.22</td>\n",
       "      <td>MIT</td>\n",
       "    </tr>\n",
       "    <tr>\n",
       "      <th>1</th>\n",
       "      <td>ADT2_YEAST</td>\n",
       "      <td>0.43</td>\n",
       "      <td>0.67</td>\n",
       "      <td>0.48</td>\n",
       "      <td>0.27</td>\n",
       "      <td>0.5</td>\n",
       "      <td>0.0</td>\n",
       "      <td>0.53</td>\n",
       "      <td>0.22</td>\n",
       "      <td>MIT</td>\n",
       "    </tr>\n",
       "    <tr>\n",
       "      <th>2</th>\n",
       "      <td>ADT3_YEAST</td>\n",
       "      <td>0.64</td>\n",
       "      <td>0.62</td>\n",
       "      <td>0.49</td>\n",
       "      <td>0.15</td>\n",
       "      <td>0.5</td>\n",
       "      <td>0.0</td>\n",
       "      <td>0.53</td>\n",
       "      <td>0.22</td>\n",
       "      <td>MIT</td>\n",
       "    </tr>\n",
       "    <tr>\n",
       "      <th>3</th>\n",
       "      <td>AAR2_YEAST</td>\n",
       "      <td>0.58</td>\n",
       "      <td>0.44</td>\n",
       "      <td>0.57</td>\n",
       "      <td>0.13</td>\n",
       "      <td>0.5</td>\n",
       "      <td>0.0</td>\n",
       "      <td>0.54</td>\n",
       "      <td>0.22</td>\n",
       "      <td>NUC</td>\n",
       "    </tr>\n",
       "    <tr>\n",
       "      <th>4</th>\n",
       "      <td>AATM_YEAST</td>\n",
       "      <td>0.42</td>\n",
       "      <td>0.44</td>\n",
       "      <td>0.48</td>\n",
       "      <td>0.54</td>\n",
       "      <td>0.5</td>\n",
       "      <td>0.0</td>\n",
       "      <td>0.48</td>\n",
       "      <td>0.22</td>\n",
       "      <td>MIT</td>\n",
       "    </tr>\n",
       "  </tbody>\n",
       "</table>\n",
       "</div>"
      ],
      "text/plain": [
       "         name    x1    x2    x3    x4   x5   x6    x7    x8    y\n",
       "0  ADT1_YEAST  0.58  0.61  0.47  0.13  0.5  0.0  0.48  0.22  MIT\n",
       "1  ADT2_YEAST  0.43  0.67  0.48  0.27  0.5  0.0  0.53  0.22  MIT\n",
       "2  ADT3_YEAST  0.64  0.62  0.49  0.15  0.5  0.0  0.53  0.22  MIT\n",
       "3  AAR2_YEAST  0.58  0.44  0.57  0.13  0.5  0.0  0.54  0.22  NUC\n",
       "4  AATM_YEAST  0.42  0.44  0.48  0.54  0.5  0.0  0.48  0.22  MIT"
      ]
     },
     "metadata": {},
     "output_type": "display_data"
    }
   ],
   "source": [
    "# https://archive.ics.uci.edu/ml/machine-learning-databases/iris/\n",
    "# https://archive.ics.uci.edu/ml/machine-learning-databases/yeast/\n",
    "yeast = pd.read_csv(\"yeast.data\", sep=\"\\\\s+\",\n",
    "    names=[\"name\", \"x1\", \"x2\", \"x3\", \"x4\", \"x5\", \"x6\", \"x7\", \"x8\", \"y\"])\n",
    "display(yeast.head())  # preview"
   ]
  },
  {
   "cell_type": "markdown",
   "metadata": {},
   "source": [
    "The first column gives sequence names which are deemed irrelevant to our task and hence will be removed."
   ]
  },
  {
   "cell_type": "code",
   "execution_count": 3,
   "metadata": {},
   "outputs": [],
   "source": [
    "yeast = yeast.iloc[:,1:] # skip 1st column (sequence names)"
   ]
  },
  {
   "cell_type": "markdown",
   "metadata": {},
   "source": [
    "Note that the dataset yields the following $n$ (number of input points) and $c$ (number of reference clusters), respectively:"
   ]
  },
  {
   "cell_type": "code",
   "execution_count": 4,
   "metadata": {},
   "outputs": [
    {
     "data": {
      "text/plain": [
       "(1484, 10)"
      ]
     },
     "execution_count": 4,
     "metadata": {},
     "output_type": "execute_result"
    }
   ],
   "source": [
    "yeast.shape[0], len(np.unique(yeast.y))"
   ]
  },
  {
   "cell_type": "markdown",
   "metadata": {},
   "source": [
    "However, Table 1 in [doi:10.1016/j.fss.2019.07.011](https://dx.doi.org/10.1016/j.fss.2019.07.011) gives 1299 and 4, respectively.\n",
    "Here is the contingency table for the reference class labels:"
   ]
  },
  {
   "cell_type": "code",
   "execution_count": 5,
   "metadata": {},
   "outputs": [
    {
     "data": {
      "text/html": [
       "<div>\n",
       "<style scoped>\n",
       "    .dataframe tbody tr th:only-of-type {\n",
       "        vertical-align: middle;\n",
       "    }\n",
       "\n",
       "    .dataframe tbody tr th {\n",
       "        vertical-align: top;\n",
       "    }\n",
       "\n",
       "    .dataframe thead th {\n",
       "        text-align: right;\n",
       "    }\n",
       "</style>\n",
       "<table border=\"1\" class=\"dataframe\">\n",
       "  <thead>\n",
       "    <tr style=\"text-align: right;\">\n",
       "      <th></th>\n",
       "      <th>ERL</th>\n",
       "      <th>POX</th>\n",
       "      <th>VAC</th>\n",
       "      <th>EXC</th>\n",
       "      <th>ME1</th>\n",
       "      <th>ME2</th>\n",
       "      <th>ME3</th>\n",
       "      <th>MIT</th>\n",
       "      <th>NUC</th>\n",
       "      <th>CYT</th>\n",
       "    </tr>\n",
       "  </thead>\n",
       "  <tbody>\n",
       "    <tr>\n",
       "      <th>y</th>\n",
       "      <td>5</td>\n",
       "      <td>20</td>\n",
       "      <td>30</td>\n",
       "      <td>35</td>\n",
       "      <td>44</td>\n",
       "      <td>51</td>\n",
       "      <td>163</td>\n",
       "      <td>244</td>\n",
       "      <td>429</td>\n",
       "      <td>463</td>\n",
       "    </tr>\n",
       "  </tbody>\n",
       "</table>\n",
       "</div>"
      ],
      "text/plain": [
       "   ERL  POX  VAC  EXC  ME1  ME2  ME3  MIT  NUC  CYT\n",
       "y    5   20   30   35   44   51  163  244  429  463"
      ]
     },
     "execution_count": 5,
     "metadata": {},
     "output_type": "execute_result"
    }
   ],
   "source": [
    "yeast.y.value_counts().sort_values().to_frame().T"
   ]
  },
  {
   "cell_type": "markdown",
   "metadata": {},
   "source": [
    "It seems (but this is an educated guess only) that in [doi:10.1016/j.fss.2019.07.011](https://dx.doi.org/10.1016/j.fss.2019.07.011), only the classes `ME3`, `MIT`, `NUC`, and `CYT` were considered (which gives 1299 observations in total).\n",
    "Therefore, from now on we shall restrict ourselves only to these 4 classes."
   ]
  },
  {
   "cell_type": "code",
   "execution_count": 6,
   "metadata": {},
   "outputs": [
    {
     "data": {
      "text/plain": [
       "(1299, 4)"
      ]
     },
     "execution_count": 6,
     "metadata": {},
     "output_type": "execute_result"
    }
   ],
   "source": [
    "yeast2 = yeast.loc[yeast.y.isin([\"ME3\", \"MIT\", \"NUC\", \"CYT\"]),:]\n",
    "yeast2_X = np.array(yeast2.iloc[:,:8])\n",
    "yeast2_Y = np.array(yeast2.y.astype(\"category\").cat.codes)\n",
    "yeast2_c = len(np.unique(yeast2_Y)) # number of reference clusters\n",
    "yeast2.shape[0], yeast2_c # n and c, respectively"
   ]
  },
  {
   "cell_type": "markdown",
   "metadata": {},
   "source": [
    "The 4 reference cluster centres are as follows:"
   ]
  },
  {
   "cell_type": "code",
   "execution_count": 7,
   "metadata": {},
   "outputs": [
    {
     "name": "stdout",
     "output_type": "stream",
     "text": [
      "[[0.4807 0.4695 0.5354 0.2271 0.5043 0.0011 0.4994 0.2572]\n",
      " [0.4309 0.4895 0.3643 0.2135 0.5031 0.     0.5101 0.27  ]\n",
      " [0.5214 0.5332 0.5174 0.4044 0.5    0.0089 0.5017 0.241 ]\n",
      " [0.4524 0.4561 0.5293 0.2283 0.5035 0.     0.4941 0.3317]]\n"
     ]
    }
   ],
   "source": [
    "yeast2_V_true = np.array(yeast2.groupby(\"y\").mean())\n",
    "print(np.round(yeast2_V_true, 4))"
   ]
  },
  {
   "cell_type": "markdown",
   "metadata": {},
   "source": [
    "Running the FCM with fuzzifier $m=2$ and random initial $V$ yields:"
   ]
  },
  {
   "cell_type": "code",
   "execution_count": 8,
   "metadata": {},
   "outputs": [
    {
     "name": "stdout",
     "output_type": "stream",
     "text": [
      "[[0.5203 0.5152 0.5052 0.214  0.5023 0.0015 0.5042 0.2695]\n",
      " [0.5061 0.5106 0.514  0.4544 0.5022 0.0018 0.4985 0.2597]\n",
      " [0.4315 0.4449 0.5104 0.216  0.5027 0.0016 0.4987 0.2864]\n",
      " [0.4435 0.4551 0.509  0.2177 0.5027 0.0016 0.4993 0.2853]]\n"
     ]
    }
   ],
   "source": [
    "yeast2_V_FCM = partition(yeast2_X, yeast2_c,\n",
    "    V_init=None, m=2.0, use_FCM=True)\n",
    "print(np.round(yeast2_V_FCM, 4))"
   ]
  },
  {
   "cell_type": "markdown",
   "metadata": {},
   "source": [
    "The solution does not match the reference cluster centres well. Nevertheless, it is well-known that the FCM might decrease its performance in higher-dimensional spaces. Also, the above true cluster memberships may be an instance of possibly many valid ones."
   ]
  },
  {
   "cell_type": "markdown",
   "metadata": {},
   "source": [
    "On the other hand, running the BFPM ($m=2$, random initial $V$) gives:"
   ]
  },
  {
   "cell_type": "code",
   "execution_count": 9,
   "metadata": {},
   "outputs": [
    {
     "name": "stdout",
     "output_type": "stream",
     "text": [
      "[[0.4728 0.4796 0.5085 0.2591 0.5031 0.002  0.4994 0.2804]\n",
      " [0.4728 0.4796 0.5085 0.2591 0.5031 0.002  0.4994 0.2804]\n",
      " [0.4728 0.4796 0.5085 0.2591 0.5031 0.002  0.4994 0.2804]\n",
      " [0.4728 0.4796 0.5085 0.2591 0.5031 0.002  0.4994 0.2804]]\n"
     ]
    }
   ],
   "source": [
    "yeast2_V_BFPM = partition(yeast2_X, yeast2_c,\n",
    "    V_init=None, m=2.0, V_prev_history_size=1, use_FCM=False, verbose=True)\n",
    "print(np.round(yeast2_V_BFPM, 4))"
   ]
  },
  {
   "cell_type": "markdown",
   "metadata": {},
   "source": [
    "The algorithm converged to a solution where\n",
    "all cluster centres coincide and are equal to the centroid of the whole\n",
    "data set. We obtain the same outcome if the BFPM is initialised from the true cluster centres."
   ]
  },
  {
   "cell_type": "code",
   "execution_count": 10,
   "metadata": {},
   "outputs": [
    {
     "name": "stdout",
     "output_type": "stream",
     "text": [
      "[[0.4728 0.4796 0.5085 0.2591 0.5031 0.002  0.4994 0.2804]\n",
      " [0.4728 0.4796 0.5085 0.2591 0.5031 0.002  0.4994 0.2804]\n",
      " [0.4728 0.4796 0.5085 0.2591 0.5031 0.002  0.4994 0.2804]\n",
      " [0.4728 0.4796 0.5085 0.2591 0.5031 0.002  0.4994 0.2804]]\n"
     ]
    }
   ],
   "source": [
    "yeast2_V_BFPM = partition(yeast2_X, yeast2_c,\n",
    "    V_init=yeast2_V_true, m=2.0, V_prev_history_size=1, use_FCM=False, verbose=True)\n",
    "print(np.round(yeast2_V_BFPM, 4))"
   ]
  }
 ],
 "metadata": {
  "kernelspec": {
   "display_name": "Python 3",
   "language": "python",
   "name": "python3"
  },
  "language_info": {
   "codemirror_mode": {
    "name": "ipython",
    "version": 3
   },
   "file_extension": ".py",
   "mimetype": "text/x-python",
   "name": "python",
   "nbconvert_exporter": "python",
   "pygments_lexer": "ipython3",
   "version": "3.7.6"
  }
 },
 "nbformat": 4,
 "nbformat_minor": 4
}
