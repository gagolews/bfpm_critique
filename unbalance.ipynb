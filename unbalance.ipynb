{
 "cells": [
  {
   "cell_type": "markdown",
   "metadata": {},
   "source": [
    "# Fuzzy C-Means: Local Minimum May Not Be the Global One\n",
    "\n",
    "by [Marek Gagolewski](https://www.gagolewski.com)\n",
    "\n",
    "This notebook is a simple illustration\n",
    "that a solution identified by the FCM does not necessarily correspond\n",
    "to the global minium of the underlying objective function.\n",
    "Even multiple restarts from different random initial guesses may not\n",
    "be enough, although they can improve the solution significantly.\n",
    "This is a well known behaviour that we also observe in the case\n",
    "of the classic k-means method (compare, e.g., the `nstart`\n",
    "argument to the `kmeans()` function in R or the\n",
    "`n_init` parameter in Python's `sklearn.cluster.KMeans`)."
   ]
  },
  {
   "cell_type": "markdown",
   "metadata": {},
   "source": [
    "## `Unbalance` Data Set from the SIPU Benchmark Battery\n",
    "\n",
    "Data set source: M. Rezaei, P. Fränti, Set-matching methods for external cluster\n",
    "validity, IEEE Trans. on Knowledge and Data Engineering, 28(8), pp. 2173-2186, 2016.\n",
    "\n",
    "Web: https://cs.joensuu.fi/sipu/datasets/\n",
    "        \n",
    "See also: `sipu/unbalance` in https://github.com/gagolews/clustering_benchmarks_v1"
   ]
  },
  {
   "cell_type": "code",
   "execution_count": 1,
   "metadata": {},
   "outputs": [],
   "source": [
    "%load_ext Cython"
   ]
  },
  {
   "cell_type": "code",
   "execution_count": 2,
   "metadata": {},
   "outputs": [],
   "source": [
    "import numpy as np\n",
    "import pandas as pd\n",
    "import genieclust\n",
    "import matplotlib.pyplot as plt\n",
    "\n",
    "X = (np.loadtxt(\"unbalance.data.gz\", ndmin=2))\n",
    "X = (X-X.mean(axis=0))/X.std(axis=0) # standardise the variables\n",
    "y = np.loadtxt(\"unbalance.labels0.gz\", dtype=\"int\")-1\n",
    "c = len(np.bincount(y))"
   ]
  },
  {
   "cell_type": "markdown",
   "metadata": {},
   "source": [
    "The data set consists of $n=6500$ points in $\\mathbb{R}^2$ and the true label vector defines $c=8$ reference clusters:"
   ]
  },
  {
   "cell_type": "code",
   "execution_count": 3,
   "metadata": {},
   "outputs": [
    {
     "data": {
      "text/plain": [
       "(6500, 8)"
      ]
     },
     "execution_count": 3,
     "metadata": {},
     "output_type": "execute_result"
    }
   ],
   "source": [
    "X.shape[0], c"
   ]
  },
  {
   "cell_type": "code",
   "execution_count": 4,
   "metadata": {},
   "outputs": [
    {
     "data": {
      "image/png": "[encoded data removed]",
      "text/plain": [
       "<Figure size 288x288 with 1 Axes>"
      ]
     },
     "metadata": {
      "needs_background": "light"
     },
     "output_type": "display_data"
    }
   ],
   "source": [
    "plt.rcParams[\"figure.figsize\"] = (4, 4) \n",
    "genieclust.plots.plot_scatter(X, labels=y)\n",
    "plt.title(\"True labels\")\n",
    "plt.axis(\"equal\")\n",
    "plt.show()"
   ]
  },
  {
   "cell_type": "markdown",
   "metadata": {},
   "source": [
    "Here are the true label counts; note that this data set is highly imbalanced in terms of the cluster sizes."
   ]
  },
  {
   "cell_type": "code",
   "execution_count": 5,
   "metadata": {},
   "outputs": [
    {
     "data": {
      "text/plain": [
       "array([2000, 2000, 2000,  100,  100,  100,  100,  100])"
      ]
     },
     "execution_count": 5,
     "metadata": {},
     "output_type": "execute_result"
    }
   ],
   "source": [
    "np.bincount(y) "
   ]
  },
  {
   "cell_type": "markdown",
   "metadata": {},
   "source": [
    "Cluster centroids:"
   ]
  },
  {
   "cell_type": "code",
   "execution_count": 6,
   "metadata": {},
   "outputs": [
    {
     "data": {
      "text/plain": [
       "array([[-0.61949876, -0.47684209],\n",
       "       [-0.27474286,  1.08468173],\n",
       "       [ 0.07053131, -0.48418474],\n",
       "       [ 2.72750711, -3.18279995],\n",
       "       [ 2.72037076,  2.13569085],\n",
       "       [ 3.3063359 , -0.49279701],\n",
       "       [ 3.86284921, -3.11128099],\n",
       "       [ 3.8571432 ,  2.17808903]])"
      ]
     },
     "execution_count": 6,
     "metadata": {},
     "output_type": "execute_result"
    }
   ],
   "source": [
    "V_true = np.array(pd.concat([pd.DataFrame(X), pd.Series(y).rename(\"y\")], axis=1).groupby(y).mean().iloc[:, :-1])\n",
    "V_true"
   ]
  },
  {
   "cell_type": "markdown",
   "metadata": {},
   "source": [
    "## An Implementation of the Fuzzy C-means Method in Cython\n",
    "\n",
    "J. Bezdek, R. Ehrlich, W. Full, FCM: The fuzzy c-means clustering algorithm,\n",
    "Computers & Geosciences 10 (1984) 191-203. doi:10.1016/0098-3004(84)90020-7\n",
    "\n",
    "This is a straightforward implementation for educational purposes.\n",
    "It has not been optimised for speed.\n",
    "However, the fact that it is written in Cython makes it run much faster than its pure Python counterpart."
   ]
  },
  {
   "cell_type": "code",
   "execution_count": 7,
   "metadata": {},
   "outputs": [],
   "source": [
    "%%cython\n",
    "\n",
    "# ############################################################################ #\n",
    "#                                                                              #\n",
    "#   Copyleft (C) 2020, Marek Gagolewski <https://www.gagolewski.com>           #\n",
    "#                                                                              #\n",
    "#                                                                              #\n",
    "#   This program is free software: you can redistribute it and/or modify       #\n",
    "#   it under the terms of the GNU Affero General Public License                #\n",
    "#   Version 3, 19 November 2007, published by the Free Software Foundation.    #\n",
    "#   This program is distributed in the hope that it will be useful,            #\n",
    "#   but WITHOUT ANY WARRANTY; without even the implied warranty of             #\n",
    "#   MERCHANTABILITY or FITNESS FOR A PARTICULAR PURPOSE. See the               #\n",
    "#   GNU Affero General Public License Version 3 for more details.              #\n",
    "#   You should have received a copy of the License along with this program.    #\n",
    "#   If this is not the case, refer to <https://www.gnu.org/licenses/>.         #\n",
    "#                                                                              #\n",
    "# ############################################################################ #\n",
    "\n",
    "\"\"\"\n",
    "Implements the Fuzzy c-means method.\n",
    "\n",
    "This is a straightforward implementation for educational purposes.\n",
    "It has not been optimised for speed.\n",
    "\n",
    "\n",
    "References\n",
    "----------\n",
    "\n",
    "J. Bezdek, R. Ehrlich, W. Full, FCM: The fuzzy c-means clustering algorithm,\n",
    "Computers & Geosciences 10 (1984) 191-203. doi:10.1016/0098-3004(84)90020-7\n",
    "\"\"\"\n",
    "\n",
    "import scipy.spatial.distance\n",
    "import numpy as np\n",
    "cimport numpy as np\n",
    "\n",
    "cdef get_V(np.ndarray[np.double_t,ndim=2] X, np.ndarray[np.double_t,ndim=2] U, float m):\n",
    "    \"\"\"An auxiliary subroutine that computes the cluster centres\n",
    "       based on Eq. (11a) in Bezdek's paper\"\"\"\n",
    "    cdef int c = U.shape[0]\n",
    "    cdef int d = X.shape[1]\n",
    "    cdef int i\n",
    "    \n",
    "    cdef np.ndarray[np.double_t,ndim=2] V = np.empty((c, d))\n",
    "    for i in range(c):\n",
    "        # weighted componentwise arithmetic means:\n",
    "        V[i,:]  = np.sum(((U[i,:]**m).reshape(-1,1))*X, axis=0)\n",
    "        V[i,:] /= np.sum(U[i,:]**m)\n",
    "    return V\n",
    "\n",
    "\n",
    "cpdef fcm_objective(np.ndarray[np.double_t,ndim=2] X, np.ndarray[np.double_t,ndim=2] V, np.ndarray[np.double_t,ndim=2] U, float m=2.0):\n",
    "    return np.sum(U**m * scipy.spatial.distance.cdist(V, X)**2.0)\n",
    "\n",
    "\n",
    "cpdef fcm(np.ndarray[np.double_t,ndim=2] X, int c, float m=2.0, V_init=None, \n",
    "    float eps=1e-8, float eps2=1e-12, int maxiter=1000, random_state=None):\n",
    "    \"\"\"\n",
    "    Implements the Fuzzy c-means method.\n",
    "    \n",
    "    This is a straightforward implementation for educational purposes.\n",
    "    It has not been optimised for speed.\n",
    "\n",
    "\n",
    "    References\n",
    "    ----------\n",
    "\n",
    "    J. Bezdek, R. Ehrlich, W. Full, FCM: The fuzzy c-means clustering algorithm,\n",
    "    Computers & Geosciences 10 (1984) 191-203. doi:10.1016/0098-3004(84)90020-7\n",
    "\n",
    "\n",
    "    Details\n",
    "    -------\n",
    "\n",
    "    By default, the method starts from a pseudo-random initial guess.\n",
    "    However, a user may provide a set of initial cluster centres (V_init).\n",
    "\n",
    "    The algorithms' convergence criteria are controlled with\n",
    "    the eps and maxiter parameters.\n",
    "\n",
    "    The division by zero error mentioned in this letter is avoided\n",
    "    by assuming 0/1=1. Moreover, we are checking here whether a current\n",
    "    intermediate V is amongst the V_prev_history_size previous ones.\n",
    "\n",
    "\n",
    "    Returns\n",
    "    -------\n",
    "\n",
    "    V, U, converged:\n",
    "        cluster centroids and membership degrees;\n",
    "        converged=False if maxiter was reached\n",
    "    \"\"\"\n",
    "    cdef int n, d, it, j, i\n",
    "    cdef np.ndarray[np.double_t,ndim=2] V, V_prev, U\n",
    "    cdef np.ndarray[np.double_t,ndim=2] D\n",
    "    cdef np.ndarray[np.int_t] which_zero\n",
    "    n = X.shape[0]\n",
    "    d = X.shape[1]\n",
    "    \n",
    "    np.random.seed(random_state)\n",
    "    if V_init is None: # the default -- random guess\n",
    "        # start with a random \"fuzzy\" partition:\n",
    "        U = np.random.rand(c, n)\n",
    "        U = U/np.sum(U, axis=0).reshape(1,-1)\n",
    "        V = get_V(X, U, m)\n",
    "    else:\n",
    "        # U will be determined in the first iteration below:\n",
    "        U = np.empty((c, n))\n",
    "        V = V_init\n",
    "\n",
    "    it = 1\n",
    "    while True:\n",
    "        # D[i,j] gives the Euclidean distance between V[i,:] and X[j,:]:\n",
    "        D = scipy.spatial.distance.cdist(V, X)\n",
    "\n",
    "        for j in range(n):\n",
    "            which_zero = (D[:,j] < eps2).astype(\"int\")\n",
    "            if np.any(which_zero):\n",
    "                # EXTRA: avoid division by 0\n",
    "                U[:,j] = which_zero*np.sum(which_zero)\n",
    "            else:\n",
    "                for i in range(c):\n",
    "                    U[i,j] = np.sum((D[i,j]/D[:,j])**(2.0/(m-1.0)))\n",
    "\n",
    "        U = U**(-1.0)  # Fuzzy c-means\n",
    "\n",
    "        V_prev = V\n",
    "        V = get_V(X, U, m)\n",
    "\n",
    "        it += 1\n",
    "        if np.max(np.sum((V_prev-V)**2.0, axis=1)) <= eps or it > maxiter:\n",
    "            return V, U, it <= maxiter"
   ]
  },
  {
   "cell_type": "markdown",
   "metadata": {},
   "source": [
    "## Running the FCM on `unbalance`"
   ]
  },
  {
   "cell_type": "markdown",
   "metadata": {},
   "source": [
    "First we start from randomly chosen initial centroids."
   ]
  },
  {
   "cell_type": "code",
   "execution_count": 8,
   "metadata": {},
   "outputs": [],
   "source": [
    "V_random, U_random, converged = fcm(X, c, maxiter=100, random_state=123)\n",
    "assert converged"
   ]
  },
  {
   "cell_type": "code",
   "execution_count": 9,
   "metadata": {},
   "outputs": [
    {
     "data": {
      "text/plain": [
       "array([[ 0.07577178, -0.52542922],\n",
       "       [ 0.07708487, -0.38783126],\n",
       "       [ 0.08375418, -0.2332952 ],\n",
       "       [-0.61796844, -0.47765988],\n",
       "       [ 3.3403455 , -3.06397842],\n",
       "       [ 0.07377058, -0.68411631],\n",
       "       [ 3.37962477,  2.08836256],\n",
       "       [-0.27261789,  1.09210347]])"
      ]
     },
     "execution_count": 9,
     "metadata": {},
     "output_type": "execute_result"
    }
   ],
   "source": [
    "V_random"
   ]
  },
  {
   "cell_type": "markdown",
   "metadata": {},
   "source": [
    "Then, let's also start the FCM from the true cluster centres (this most likely yields the global minimum of the objective function, $J_2$, but we cannot be sure):"
   ]
  },
  {
   "cell_type": "code",
   "execution_count": 10,
   "metadata": {},
   "outputs": [],
   "source": [
    "np.random.seed(123)\n",
    "V_fromtrue, U_fromtrue, converged = fcm(X, c, V_init=V_true, maxiter=100)\n",
    "assert converged"
   ]
  },
  {
   "cell_type": "code",
   "execution_count": 11,
   "metadata": {},
   "outputs": [
    {
     "data": {
      "text/plain": [
       "array([[-0.61655645, -0.4777737 ],\n",
       "       [-0.27443407,  1.0875207 ],\n",
       "       [ 0.06762636, -0.48502405],\n",
       "       [ 2.75024328, -3.1719507 ],\n",
       "       [ 2.73557924,  2.09841056],\n",
       "       [ 3.30426797, -0.48281074],\n",
       "       [ 3.8402362 , -3.09855456],\n",
       "       [ 3.82770815,  2.22394639]])"
      ]
     },
     "execution_count": 11,
     "metadata": {},
     "output_type": "execute_result"
    }
   ],
   "source": [
    "V_fromtrue"
   ]
  },
  {
   "cell_type": "markdown",
   "metadata": {},
   "source": [
    "Of course, in practice we have no access to the true cluster labels. This is only an illustration."
   ]
  },
  {
   "cell_type": "markdown",
   "metadata": {},
   "source": [
    "## Visualisation"
   ]
  },
  {
   "cell_type": "code",
   "execution_count": 12,
   "metadata": {},
   "outputs": [
    {
     "data": {
      "image/png": "[encoded data removed]",
      "text/plain": [
       "<Figure size 864x288 with 3 Axes>"
      ]
     },
     "metadata": {
      "needs_background": "light"
     },
     "output_type": "display_data"
    }
   ],
   "source": [
    "plt.rcParams[\"figure.figsize\"] = (12, 4) \n",
    "\n",
    "plt.subplot(131)\n",
    "genieclust.plots.plot_scatter(X, labels=y)\n",
    "plt.title(\"True labels\")\n",
    "plt.axis(\"equal\")\n",
    "\n",
    "plt.subplot(132)\n",
    "genieclust.plots.plot_scatter(X, labels=U_random.argmax(axis=0))\n",
    "plt.title(\"$J_2$=%f\\nFCM from random\" % fcm_objective(X, V_random, U_random))\n",
    "plt.axis(\"equal\")\n",
    "\n",
    "plt.subplot(133)\n",
    "genieclust.plots.plot_scatter(X, labels=U_fromtrue.argmax(axis=0))\n",
    "plt.title(\"$J_2$=%f\\nFCM from true\" % fcm_objective(X, V_fromtrue, U_fromtrue))\n",
    "plt.axis(\"equal\")\n",
    "\n",
    "plt.show()"
   ]
  },
  {
   "cell_type": "markdown",
   "metadata": {},
   "source": [
    "We see that the solution in the middle is rather sub-optimal."
   ]
  },
  {
   "cell_type": "markdown",
   "metadata": {},
   "source": [
    "## Multiple Restarts"
   ]
  },
  {
   "cell_type": "markdown",
   "metadata": {},
   "source": [
    "The objective function in the FCM problem is given by (here we use the fuzzifier $m=2$):\n",
    "\n",
    "$$\n",
    "  J_m(U; v_1,\\dots,v_c) = \\sum_{j=1}^n \\sum_{i=1}^c {u_{ij}^m} \\| X_j - v_i \\|^2,\n",
    "$$\n",
    "  \n",
    "To recall, the FCM algorithm is just a heuristic that aims to numerically identify the minimum of $J_m$.\n",
    "  \n",
    "The value of the objective function at the global minimum is definitely not greater than:"
   ]
  },
  {
   "cell_type": "code",
   "execution_count": 13,
   "metadata": {},
   "outputs": [
    {
     "data": {
      "text/plain": [
       "231.7325412330409"
      ]
     },
     "execution_count": 13,
     "metadata": {},
     "output_type": "execute_result"
    }
   ],
   "source": [
    "fcm_objective(X, V_fromtrue, U_fromtrue)"
   ]
  },
  {
   "cell_type": "markdown",
   "metadata": {},
   "source": [
    "Here are the values of the objective function at different local minima identified (starting from 10 different pseudo-random initial guesses):"
   ]
  },
  {
   "cell_type": "code",
   "execution_count": 14,
   "metadata": {},
   "outputs": [
    {
     "name": "stdout",
     "output_type": "stream",
     "text": [
      "340.4767726302996\n",
      "374.37429534583697\n",
      "374.3742848081917\n",
      "249.32568919580243\n",
      "381.44480876278124\n",
      "274.66707244984786\n",
      "396.09683158011603\n",
      "251.83935438874835\n",
      "251.83935479448027\n",
      "362.2881508546466\n"
     ]
    }
   ],
   "source": [
    "best_obj = np.inf\n",
    "for i in range(10):\n",
    "    V_random, U_random, converged = fcm(X, c, maxiter=100, random_state=i+1)\n",
    "    assert converged\n",
    "    obj = fcm_objective(X, V_random, U_random)\n",
    "    print(obj)\n",
    "    if obj < best_obj:\n",
    "        best_obj = obj\n",
    "        V_best = V_random\n",
    "        U_best = U_random"
   ]
  },
  {
   "cell_type": "markdown",
   "metadata": {},
   "source": [
    "Hence, even restarting the method 10 times does not guarantee finding the global minimum. However, it can improve the solution significantly."
   ]
  },
  {
   "cell_type": "code",
   "execution_count": 15,
   "metadata": {},
   "outputs": [
    {
     "data": {
      "image/png": "[encoded data removed]",
      "text/plain": [
       "<Figure size 864x288 with 3 Axes>"
      ]
     },
     "metadata": {
      "needs_background": "light"
     },
     "output_type": "display_data"
    }
   ],
   "source": [
    "plt.rcParams[\"figure.figsize\"] = (12, 4) \n",
    "\n",
    "plt.subplot(131)\n",
    "genieclust.plots.plot_scatter(X, labels=y)\n",
    "plt.title(\"True labels\")\n",
    "plt.axis(\"equal\")\n",
    "\n",
    "plt.subplot(132)\n",
    "genieclust.plots.plot_scatter(X, labels=U_best.argmax(axis=0))\n",
    "plt.title(\"$J_2$=%f\\nFCM from random (with restarts)\" % fcm_objective(X, V_best, U_best))\n",
    "plt.axis(\"equal\")\n",
    "\n",
    "plt.subplot(133)\n",
    "genieclust.plots.plot_scatter(X, labels=U_fromtrue.argmax(axis=0))\n",
    "plt.title(\"$J_2$=%f\\nFCM from true\" % fcm_objective(X, V_fromtrue, U_fromtrue))\n",
    "plt.axis(\"equal\")\n",
    "\n",
    "plt.show()"
   ]
  },
  {
   "cell_type": "markdown",
   "metadata": {},
   "source": [
    "QED."
   ]
  }
 ],
 "metadata": {
  "kernelspec": {
   "display_name": "Python 3",
   "language": "python",
   "name": "python3"
  },
  "language_info": {
   "codemirror_mode": {
    "name": "ipython",
    "version": 3
   },
   "file_extension": ".py",
   "mimetype": "text/x-python",
   "name": "python",
   "nbconvert_exporter": "python",
   "pygments_lexer": "ipython3",
   "version": "3.7.6"
  }
 },
 "nbformat": 4,
 "nbformat_minor": 4
}
